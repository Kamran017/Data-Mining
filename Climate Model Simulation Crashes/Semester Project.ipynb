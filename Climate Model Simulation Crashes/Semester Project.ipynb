{
 "cells": [
  {
   "cell_type": "markdown",
   "metadata": {},
   "source": [
    "#  KAMRAN BALAYEV DATA MINING SEMESTER PROJECT"
   ]
  },
  {
   "cell_type": "markdown",
   "metadata": {},
   "source": [
    "## Climate Model Simulation Crashes\n",
    "This dataset contains records of simulation crashes encountered during climate model uncertainty quantification ensembles.\n",
    "Ensemble members were constructed using a Latin hypercube method in LLNL's UQ Pipeline software system to sample the uncertainties of 18 model parameters within the Parallel Ocean Program (POP2) component of the Community Climate System Model (CCSM4).\n",
    "\n",
    "Three separate Latin hypercube ensembles were conducted, each containing 180 ensemble members. 46 out of the 540 simulations failed for numerical reasons at combinations of parameter values.\n",
    "\n",
    "The goal is to use classification to predict simulation outcomes (fail or succeed) from input parameter values, and to use sensitivity analysis and feature selection to determine the causes of simulation crashes.\n",
    "\n",
    "#### Attribute Information:\n",
    "\n",
    "The goal is to predict climate model simulation outcomes (column 21, fail or succeed) given scaled values of climate model input parameters (columns 3-20).\n",
    "\n",
    "Column 1: Latin hypercube study ID (study 1 to study 3)\n",
    "\n",
    "Column 2: simulation ID (run 1 to run 180)\n",
    "\n",
    "Columns 3-20: values of 18 climate model parameters scaled in the interval [0, 1]\n",
    "\n",
    "Column 21: simulation outcome (0 = failure, 1 = success)\n"
   ]
  },
  {
   "cell_type": "markdown",
   "metadata": {},
   "source": [
    "### Visualization of Classes via Usage of Weka\n",
    "\n",
    "![image.png](images/Screenshot_22.jpg)"
   ]
  },
  {
   "cell_type": "markdown",
   "metadata": {},
   "source": [
    "### Missing Data Results\n",
    "#### Weka tool represents that missing data rates are zero for all of the attributes\n",
    "\n",
    "![image.png](images/Screenshot_1.jpg)\n",
    "![image.png](images/Screenshot_2.jpg)\n",
    "![image.png](images/Screenshot_3.jpg)\n",
    "![image.png](images/Screenshot_4.jpg)\n",
    "![image.png](images/Screenshot_5.jpg)\n",
    "![image.png](images/Screenshot_6.jpg)\n",
    "![image.png](images/Screenshot_7.jpg)\n",
    "![image.png](images/Screenshot_8.jpg)\n",
    "![image.png](images/Screenshot_9.jpg)\n",
    "![image.png](images/Screenshot_10.jpg)\n",
    "![image.png](images/Screenshot_11.jpg)\n",
    "![image.png](images/Screenshot_12.jpg)\n",
    "![image.png](images/Screenshot_13.jpg)\n",
    "![image.png](images/Screenshot_14.jpg)\n",
    "![image.png](images/Screenshot_15.jpg)\n",
    "![image.png](images/Screenshot_16.jpg)\n",
    "![image.png](images/Screenshot_17.jpg)\n",
    "![image.png](images/Screenshot_18.jpg)\n",
    "![image.png](images/Screenshot_19.jpg)\n",
    "![image.png](images/Screenshot_20.jpg)\n",
    "![image.png](images/Screenshot_21.jpg)\n"
   ]
  },
  {
   "cell_type": "code",
   "execution_count": 2,
   "metadata": {},
   "outputs": [],
   "source": [
    "import numpy as np\n",
    "import matplotlib.pyplot as plt\n",
    "import pandas as pd\n",
    "import seaborn as sns\n",
    "from sklearn import preprocessing\n",
    "from sklearn.metrics import accuracy_score\n"
   ]
  },
  {
   "cell_type": "code",
   "execution_count": 5,
   "metadata": {},
   "outputs": [
    {
     "data": {
      "text/html": [
       "<div>\n",
       "<style scoped>\n",
       "    .dataframe tbody tr th:only-of-type {\n",
       "        vertical-align: middle;\n",
       "    }\n",
       "\n",
       "    .dataframe tbody tr th {\n",
       "        vertical-align: top;\n",
       "    }\n",
       "\n",
       "    .dataframe thead th {\n",
       "        text-align: right;\n",
       "    }\n",
       "</style>\n",
       "<table border=\"1\" class=\"dataframe\">\n",
       "  <thead>\n",
       "    <tr style=\"text-align: right;\">\n",
       "      <th></th>\n",
       "      <th>Study</th>\n",
       "      <th>Run</th>\n",
       "      <th>vconst_corr</th>\n",
       "      <th>vconst_2</th>\n",
       "      <th>vconst_3</th>\n",
       "      <th>vconst_4</th>\n",
       "      <th>vconst_5</th>\n",
       "      <th>vconst_7</th>\n",
       "      <th>ah_corr</th>\n",
       "      <th>ah_bolus</th>\n",
       "      <th>...</th>\n",
       "      <th>efficiency_factor</th>\n",
       "      <th>tidal_mix_max</th>\n",
       "      <th>vertical_decay_scale</th>\n",
       "      <th>convect_corr</th>\n",
       "      <th>bckgrnd_vdc1</th>\n",
       "      <th>bckgrnd_vdc_ban</th>\n",
       "      <th>bckgrnd_vdc_eq</th>\n",
       "      <th>bckgrnd_vdc_psim</th>\n",
       "      <th>Prandtl</th>\n",
       "      <th>outcome</th>\n",
       "    </tr>\n",
       "  </thead>\n",
       "  <tbody>\n",
       "    <tr>\n",
       "      <th>0</th>\n",
       "      <td>1</td>\n",
       "      <td>1</td>\n",
       "      <td>0.859036</td>\n",
       "      <td>0.927825</td>\n",
       "      <td>0.252866</td>\n",
       "      <td>0.298838</td>\n",
       "      <td>0.170521</td>\n",
       "      <td>0.735936</td>\n",
       "      <td>0.428325</td>\n",
       "      <td>0.567947</td>\n",
       "      <td>...</td>\n",
       "      <td>0.245675</td>\n",
       "      <td>0.104226</td>\n",
       "      <td>0.104226</td>\n",
       "      <td>0.997518</td>\n",
       "      <td>0.448620</td>\n",
       "      <td>0.307522</td>\n",
       "      <td>0.858310</td>\n",
       "      <td>0.796997</td>\n",
       "      <td>0.869893</td>\n",
       "      <td>0</td>\n",
       "    </tr>\n",
       "    <tr>\n",
       "      <th>1</th>\n",
       "      <td>1</td>\n",
       "      <td>2</td>\n",
       "      <td>0.606041</td>\n",
       "      <td>0.457728</td>\n",
       "      <td>0.359448</td>\n",
       "      <td>0.306957</td>\n",
       "      <td>0.843331</td>\n",
       "      <td>0.934851</td>\n",
       "      <td>0.444572</td>\n",
       "      <td>0.828015</td>\n",
       "      <td>...</td>\n",
       "      <td>0.616870</td>\n",
       "      <td>0.975786</td>\n",
       "      <td>0.975786</td>\n",
       "      <td>0.845247</td>\n",
       "      <td>0.864152</td>\n",
       "      <td>0.346713</td>\n",
       "      <td>0.356573</td>\n",
       "      <td>0.438447</td>\n",
       "      <td>0.512256</td>\n",
       "      <td>1</td>\n",
       "    </tr>\n",
       "    <tr>\n",
       "      <th>2</th>\n",
       "      <td>1</td>\n",
       "      <td>3</td>\n",
       "      <td>0.997600</td>\n",
       "      <td>0.373238</td>\n",
       "      <td>0.517399</td>\n",
       "      <td>0.504993</td>\n",
       "      <td>0.618903</td>\n",
       "      <td>0.605571</td>\n",
       "      <td>0.746225</td>\n",
       "      <td>0.195928</td>\n",
       "      <td>...</td>\n",
       "      <td>0.679355</td>\n",
       "      <td>0.803413</td>\n",
       "      <td>0.803413</td>\n",
       "      <td>0.718441</td>\n",
       "      <td>0.924775</td>\n",
       "      <td>0.315371</td>\n",
       "      <td>0.250642</td>\n",
       "      <td>0.285636</td>\n",
       "      <td>0.365858</td>\n",
       "      <td>1</td>\n",
       "    </tr>\n",
       "    <tr>\n",
       "      <th>3</th>\n",
       "      <td>1</td>\n",
       "      <td>4</td>\n",
       "      <td>0.783408</td>\n",
       "      <td>0.104055</td>\n",
       "      <td>0.197533</td>\n",
       "      <td>0.421837</td>\n",
       "      <td>0.742056</td>\n",
       "      <td>0.490828</td>\n",
       "      <td>0.005525</td>\n",
       "      <td>0.392123</td>\n",
       "      <td>...</td>\n",
       "      <td>0.471463</td>\n",
       "      <td>0.597879</td>\n",
       "      <td>0.597879</td>\n",
       "      <td>0.362751</td>\n",
       "      <td>0.912819</td>\n",
       "      <td>0.977971</td>\n",
       "      <td>0.845921</td>\n",
       "      <td>0.699431</td>\n",
       "      <td>0.475987</td>\n",
       "      <td>1</td>\n",
       "    </tr>\n",
       "    <tr>\n",
       "      <th>4</th>\n",
       "      <td>1</td>\n",
       "      <td>5</td>\n",
       "      <td>0.406250</td>\n",
       "      <td>0.513199</td>\n",
       "      <td>0.061812</td>\n",
       "      <td>0.635837</td>\n",
       "      <td>0.844798</td>\n",
       "      <td>0.441502</td>\n",
       "      <td>0.191926</td>\n",
       "      <td>0.487546</td>\n",
       "      <td>...</td>\n",
       "      <td>0.551543</td>\n",
       "      <td>0.743877</td>\n",
       "      <td>0.743877</td>\n",
       "      <td>0.650223</td>\n",
       "      <td>0.522261</td>\n",
       "      <td>0.043545</td>\n",
       "      <td>0.376660</td>\n",
       "      <td>0.280098</td>\n",
       "      <td>0.132283</td>\n",
       "      <td>1</td>\n",
       "    </tr>\n",
       "  </tbody>\n",
       "</table>\n",
       "<p>5 rows × 21 columns</p>\n",
       "</div>"
      ],
      "text/plain": [
       "   Study  Run  vconst_corr  vconst_2  vconst_3  vconst_4  vconst_5  vconst_7  \\\n",
       "0      1    1     0.859036  0.927825  0.252866  0.298838  0.170521  0.735936   \n",
       "1      1    2     0.606041  0.457728  0.359448  0.306957  0.843331  0.934851   \n",
       "2      1    3     0.997600  0.373238  0.517399  0.504993  0.618903  0.605571   \n",
       "3      1    4     0.783408  0.104055  0.197533  0.421837  0.742056  0.490828   \n",
       "4      1    5     0.406250  0.513199  0.061812  0.635837  0.844798  0.441502   \n",
       "\n",
       "    ah_corr  ah_bolus  ...  efficiency_factor  tidal_mix_max  \\\n",
       "0  0.428325  0.567947  ...           0.245675       0.104226   \n",
       "1  0.444572  0.828015  ...           0.616870       0.975786   \n",
       "2  0.746225  0.195928  ...           0.679355       0.803413   \n",
       "3  0.005525  0.392123  ...           0.471463       0.597879   \n",
       "4  0.191926  0.487546  ...           0.551543       0.743877   \n",
       "\n",
       "   vertical_decay_scale              convect_corr  bckgrnd_vdc1  \\\n",
       "0                          0.104226      0.997518      0.448620   \n",
       "1                          0.975786      0.845247      0.864152   \n",
       "2                          0.803413      0.718441      0.924775   \n",
       "3                          0.597879      0.362751      0.912819   \n",
       "4                          0.743877      0.650223      0.522261   \n",
       "\n",
       "   bckgrnd_vdc_ban  bckgrnd_vdc_eq  bckgrnd_vdc_psim   Prandtl  outcome  \n",
       "0         0.307522        0.858310          0.796997  0.869893        0  \n",
       "1         0.346713        0.356573          0.438447  0.512256        1  \n",
       "2         0.315371        0.250642          0.285636  0.365858        1  \n",
       "3         0.977971        0.845921          0.699431  0.475987        1  \n",
       "4         0.043545        0.376660          0.280098  0.132283        1  \n",
       "\n",
       "[5 rows x 21 columns]"
      ]
     },
     "execution_count": 5,
     "metadata": {},
     "output_type": "execute_result"
    }
   ],
   "source": [
    "data = pd.read_csv('data/data.csv')\n",
    "data.head()"
   ]
  },
  {
   "cell_type": "code",
   "execution_count": 6,
   "metadata": {},
   "outputs": [
    {
     "data": {
      "text/plain": [
       "(540, 21)"
      ]
     },
     "execution_count": 6,
     "metadata": {},
     "output_type": "execute_result"
    }
   ],
   "source": [
    "data.shape"
   ]
  },
  {
   "cell_type": "code",
   "execution_count": 7,
   "metadata": {},
   "outputs": [
    {
     "data": {
      "text/plain": [
       "Index(['Study', 'Run', 'vconst_corr', 'vconst_2', 'vconst_3', 'vconst_4',\n",
       "       'vconst_5', 'vconst_7', 'ah_corr', 'ah_bolus', 'slm_corr',\n",
       "       'efficiency_factor', 'tidal_mix_max',\n",
       "       'vertical_decay_scale            ', 'convect_corr', 'bckgrnd_vdc1',\n",
       "       'bckgrnd_vdc_ban', 'bckgrnd_vdc_eq', 'bckgrnd_vdc_psim', 'Prandtl',\n",
       "       'outcome'],\n",
       "      dtype='object')"
      ]
     },
     "execution_count": 7,
     "metadata": {},
     "output_type": "execute_result"
    }
   ],
   "source": [
    "data.columns"
   ]
  },
  {
   "cell_type": "code",
   "execution_count": 8,
   "metadata": {},
   "outputs": [
    {
     "data": {
      "text/plain": [
       "<bound method DataFrame.info of      Study  Run  vconst_corr  vconst_2  vconst_3  vconst_4  vconst_5  \\\n",
       "0        1    1     0.859036  0.927825  0.252866  0.298838  0.170521   \n",
       "1        1    2     0.606041  0.457728  0.359448  0.306957  0.843331   \n",
       "2        1    3     0.997600  0.373238  0.517399  0.504993  0.618903   \n",
       "3        1    4     0.783408  0.104055  0.197533  0.421837  0.742056   \n",
       "4        1    5     0.406250  0.513199  0.061812  0.635837  0.844798   \n",
       "..     ...  ...          ...       ...       ...       ...       ...   \n",
       "535      3  176     0.657136  0.489375  0.133713  0.411950  0.087780   \n",
       "536      3  177     0.915894  0.842720  0.518947  0.090622  0.336981   \n",
       "537      3  178     0.478600  0.941185  0.769245  0.950776  0.189406   \n",
       "538      3  179     0.007793  0.779287  0.867468  0.704820  0.983282   \n",
       "539      3  180     0.608075  0.031556  0.598264  0.794771  0.145680   \n",
       "\n",
       "     vconst_7   ah_corr  ah_bolus  ...  efficiency_factor  tidal_mix_max  \\\n",
       "0    0.735936  0.428325  0.567947  ...           0.245675       0.104226   \n",
       "1    0.934851  0.444572  0.828015  ...           0.616870       0.975786   \n",
       "2    0.605571  0.746225  0.195928  ...           0.679355       0.803413   \n",
       "3    0.490828  0.005525  0.392123  ...           0.471463       0.597879   \n",
       "4    0.441502  0.191926  0.487546  ...           0.551543       0.743877   \n",
       "..        ...       ...       ...  ...                ...            ...   \n",
       "535  0.356289  0.480204  0.029678  ...           0.280546       0.384117   \n",
       "536  0.893576  0.978703  0.674868  ...           0.798108       0.353546   \n",
       "537  0.112743  0.745645  0.527096  ...           0.193103       0.829563   \n",
       "538  0.420303  0.710612  0.174746  ...           0.761134       0.436714   \n",
       "539  0.378183  0.461948  0.425291  ...           0.480938       0.307816   \n",
       "\n",
       "     vertical_decay_scale              convect_corr  bckgrnd_vdc1  \\\n",
       "0                            0.104226      0.997518      0.448620   \n",
       "1                            0.975786      0.845247      0.864152   \n",
       "2                            0.803413      0.718441      0.924775   \n",
       "3                            0.597879      0.362751      0.912819   \n",
       "4                            0.743877      0.650223      0.522261   \n",
       "..                                ...           ...           ...   \n",
       "535                          0.384117      0.885948      0.459479   \n",
       "536                          0.353546      0.044796      0.347027   \n",
       "537                          0.829563      0.101506      0.381966   \n",
       "538                          0.436714      0.690132      0.981656   \n",
       "539                          0.307816      0.231638      0.583558   \n",
       "\n",
       "     bckgrnd_vdc_ban  bckgrnd_vdc_eq  bckgrnd_vdc_psim   Prandtl  outcome  \n",
       "0           0.307522        0.858310          0.796997  0.869893        0  \n",
       "1           0.346713        0.356573          0.438447  0.512256        1  \n",
       "2           0.315371        0.250642          0.285636  0.365858        1  \n",
       "3           0.977971        0.845921          0.699431  0.475987        1  \n",
       "4           0.043545        0.376660          0.280098  0.132283        1  \n",
       "..               ...             ...               ...       ...      ...  \n",
       "535         0.334482        0.573002          0.610183  0.737706        1  \n",
       "536         0.512499        0.810549          0.593332  0.142565        0  \n",
       "537         0.198811        0.867108          0.461632  0.652817        1  \n",
       "538         0.113193        0.364799          0.201469  0.536535        1  \n",
       "539         0.969365        0.464331          0.760344  0.762439        1  \n",
       "\n",
       "[540 rows x 21 columns]>"
      ]
     },
     "execution_count": 8,
     "metadata": {},
     "output_type": "execute_result"
    }
   ],
   "source": [
    "data.info"
   ]
  },
  {
   "cell_type": "markdown",
   "metadata": {},
   "source": [
    "#### Visualization\n"
   ]
  },
  {
   "cell_type": "code",
   "execution_count": 9,
   "metadata": {},
   "outputs": [
    {
     "data": {
      "image/png": "[encoded data removed]",
      "text/plain": [
       "<Figure size 1440x1440 with 25 Axes>"
      ]
     },
     "metadata": {
      "needs_background": "light"
     },
     "output_type": "display_data"
    }
   ],
   "source": [
    "data.hist(bins=60, figsize=(20,20))\n",
    "plt.show()"
   ]
  },
  {
   "cell_type": "markdown",
   "metadata": {},
   "source": [
    "### Correlation Heatmap\n"
   ]
  },
  {
   "cell_type": "code",
   "execution_count": 10,
   "metadata": {},
   "outputs": [
    {
     "data": {
      "image/png": "[encoded data removed]",
      "text/plain": [
       "<Figure size 1440x1440 with 2 Axes>"
      ]
     },
     "metadata": {
      "needs_background": "light"
     },
     "output_type": "display_data"
    }
   ],
   "source": [
    "plt.figure(figsize=(20,20))\n",
    "sns.heatmap(data.corr())\n",
    "plt.show()"
   ]
  },
  {
   "cell_type": "code",
   "execution_count": 11,
   "metadata": {},
   "outputs": [
    {
     "data": {
      "text/html": [
       "<div>\n",
       "<style scoped>\n",
       "    .dataframe tbody tr th:only-of-type {\n",
       "        vertical-align: middle;\n",
       "    }\n",
       "\n",
       "    .dataframe tbody tr th {\n",
       "        vertical-align: top;\n",
       "    }\n",
       "\n",
       "    .dataframe thead th {\n",
       "        text-align: right;\n",
       "    }\n",
       "</style>\n",
       "<table border=\"1\" class=\"dataframe\">\n",
       "  <thead>\n",
       "    <tr style=\"text-align: right;\">\n",
       "      <th></th>\n",
       "      <th>Study</th>\n",
       "      <th>Run</th>\n",
       "      <th>vconst_corr</th>\n",
       "      <th>vconst_2</th>\n",
       "      <th>vconst_3</th>\n",
       "      <th>vconst_4</th>\n",
       "      <th>vconst_5</th>\n",
       "      <th>vconst_7</th>\n",
       "      <th>ah_corr</th>\n",
       "      <th>ah_bolus</th>\n",
       "      <th>...</th>\n",
       "      <th>efficiency_factor</th>\n",
       "      <th>tidal_mix_max</th>\n",
       "      <th>vertical_decay_scale</th>\n",
       "      <th>convect_corr</th>\n",
       "      <th>bckgrnd_vdc1</th>\n",
       "      <th>bckgrnd_vdc_ban</th>\n",
       "      <th>bckgrnd_vdc_eq</th>\n",
       "      <th>bckgrnd_vdc_psim</th>\n",
       "      <th>Prandtl</th>\n",
       "      <th>outcome</th>\n",
       "    </tr>\n",
       "  </thead>\n",
       "  <tbody>\n",
       "    <tr>\n",
       "      <th>count</th>\n",
       "      <td>540.000000</td>\n",
       "      <td>540.000000</td>\n",
       "      <td>540.000000</td>\n",
       "      <td>540.000000</td>\n",
       "      <td>540.000000</td>\n",
       "      <td>540.000000</td>\n",
       "      <td>540.000000</td>\n",
       "      <td>540.000000</td>\n",
       "      <td>540.000000</td>\n",
       "      <td>540.000000</td>\n",
       "      <td>...</td>\n",
       "      <td>540.000000</td>\n",
       "      <td>540.000000</td>\n",
       "      <td>540.000000</td>\n",
       "      <td>540.000000</td>\n",
       "      <td>540.000000</td>\n",
       "      <td>540.000000</td>\n",
       "      <td>540.000000</td>\n",
       "      <td>540.000000</td>\n",
       "      <td>540.000000</td>\n",
       "      <td>540.000000</td>\n",
       "    </tr>\n",
       "    <tr>\n",
       "      <th>mean</th>\n",
       "      <td>2.000000</td>\n",
       "      <td>90.500000</td>\n",
       "      <td>0.500026</td>\n",
       "      <td>0.500097</td>\n",
       "      <td>0.500027</td>\n",
       "      <td>0.500119</td>\n",
       "      <td>0.500001</td>\n",
       "      <td>0.499913</td>\n",
       "      <td>0.500059</td>\n",
       "      <td>0.500076</td>\n",
       "      <td>...</td>\n",
       "      <td>0.500111</td>\n",
       "      <td>0.499984</td>\n",
       "      <td>0.499984</td>\n",
       "      <td>0.499953</td>\n",
       "      <td>0.499944</td>\n",
       "      <td>0.499946</td>\n",
       "      <td>0.500044</td>\n",
       "      <td>0.500020</td>\n",
       "      <td>0.500021</td>\n",
       "      <td>0.914815</td>\n",
       "    </tr>\n",
       "    <tr>\n",
       "      <th>std</th>\n",
       "      <td>0.817254</td>\n",
       "      <td>52.008901</td>\n",
       "      <td>0.288939</td>\n",
       "      <td>0.288922</td>\n",
       "      <td>0.289067</td>\n",
       "      <td>0.288993</td>\n",
       "      <td>0.288827</td>\n",
       "      <td>0.288852</td>\n",
       "      <td>0.289010</td>\n",
       "      <td>0.288909</td>\n",
       "      <td>...</td>\n",
       "      <td>0.288966</td>\n",
       "      <td>0.289127</td>\n",
       "      <td>0.289127</td>\n",
       "      <td>0.288877</td>\n",
       "      <td>0.288949</td>\n",
       "      <td>0.288923</td>\n",
       "      <td>0.288813</td>\n",
       "      <td>0.288936</td>\n",
       "      <td>0.289013</td>\n",
       "      <td>0.279416</td>\n",
       "    </tr>\n",
       "    <tr>\n",
       "      <th>min</th>\n",
       "      <td>1.000000</td>\n",
       "      <td>1.000000</td>\n",
       "      <td>0.000414</td>\n",
       "      <td>0.001922</td>\n",
       "      <td>0.001181</td>\n",
       "      <td>0.001972</td>\n",
       "      <td>0.000858</td>\n",
       "      <td>0.000476</td>\n",
       "      <td>0.004590</td>\n",
       "      <td>0.000296</td>\n",
       "      <td>...</td>\n",
       "      <td>0.002015</td>\n",
       "      <td>0.000419</td>\n",
       "      <td>0.000419</td>\n",
       "      <td>0.001188</td>\n",
       "      <td>0.002509</td>\n",
       "      <td>0.000732</td>\n",
       "      <td>0.000891</td>\n",
       "      <td>0.000219</td>\n",
       "      <td>0.000263</td>\n",
       "      <td>0.000000</td>\n",
       "    </tr>\n",
       "    <tr>\n",
       "      <th>25%</th>\n",
       "      <td>1.000000</td>\n",
       "      <td>45.750000</td>\n",
       "      <td>0.249650</td>\n",
       "      <td>0.251597</td>\n",
       "      <td>0.251540</td>\n",
       "      <td>0.250158</td>\n",
       "      <td>0.250630</td>\n",
       "      <td>0.251325</td>\n",
       "      <td>0.253048</td>\n",
       "      <td>0.250402</td>\n",
       "      <td>...</td>\n",
       "      <td>0.250758</td>\n",
       "      <td>0.251676</td>\n",
       "      <td>0.251676</td>\n",
       "      <td>0.249988</td>\n",
       "      <td>0.249586</td>\n",
       "      <td>0.249974</td>\n",
       "      <td>0.250412</td>\n",
       "      <td>0.252739</td>\n",
       "      <td>0.249723</td>\n",
       "      <td>1.000000</td>\n",
       "    </tr>\n",
       "    <tr>\n",
       "      <th>50%</th>\n",
       "      <td>2.000000</td>\n",
       "      <td>90.500000</td>\n",
       "      <td>0.499998</td>\n",
       "      <td>0.499595</td>\n",
       "      <td>0.500104</td>\n",
       "      <td>0.500456</td>\n",
       "      <td>0.500903</td>\n",
       "      <td>0.499174</td>\n",
       "      <td>0.499070</td>\n",
       "      <td>0.500074</td>\n",
       "      <td>...</td>\n",
       "      <td>0.500393</td>\n",
       "      <td>0.500322</td>\n",
       "      <td>0.500322</td>\n",
       "      <td>0.500219</td>\n",
       "      <td>0.499080</td>\n",
       "      <td>0.499959</td>\n",
       "      <td>0.500384</td>\n",
       "      <td>0.498955</td>\n",
       "      <td>0.499431</td>\n",
       "      <td>1.000000</td>\n",
       "    </tr>\n",
       "    <tr>\n",
       "      <th>75%</th>\n",
       "      <td>3.000000</td>\n",
       "      <td>135.250000</td>\n",
       "      <td>0.750042</td>\n",
       "      <td>0.750011</td>\n",
       "      <td>0.749180</td>\n",
       "      <td>0.750348</td>\n",
       "      <td>0.748988</td>\n",
       "      <td>0.748166</td>\n",
       "      <td>0.750109</td>\n",
       "      <td>0.749091</td>\n",
       "      <td>...</td>\n",
       "      <td>0.749447</td>\n",
       "      <td>0.749346</td>\n",
       "      <td>0.749346</td>\n",
       "      <td>0.749539</td>\n",
       "      <td>0.750012</td>\n",
       "      <td>0.747978</td>\n",
       "      <td>0.749256</td>\n",
       "      <td>0.748539</td>\n",
       "      <td>0.749792</td>\n",
       "      <td>1.000000</td>\n",
       "    </tr>\n",
       "    <tr>\n",
       "      <th>max</th>\n",
       "      <td>3.000000</td>\n",
       "      <td>180.000000</td>\n",
       "      <td>0.999194</td>\n",
       "      <td>0.998815</td>\n",
       "      <td>0.998263</td>\n",
       "      <td>0.997673</td>\n",
       "      <td>0.998944</td>\n",
       "      <td>0.997142</td>\n",
       "      <td>0.998930</td>\n",
       "      <td>0.998506</td>\n",
       "      <td>...</td>\n",
       "      <td>0.999536</td>\n",
       "      <td>0.999942</td>\n",
       "      <td>0.999942</td>\n",
       "      <td>0.997518</td>\n",
       "      <td>0.999795</td>\n",
       "      <td>0.999155</td>\n",
       "      <td>0.997265</td>\n",
       "      <td>0.999306</td>\n",
       "      <td>0.999655</td>\n",
       "      <td>1.000000</td>\n",
       "    </tr>\n",
       "  </tbody>\n",
       "</table>\n",
       "<p>8 rows × 21 columns</p>\n",
       "</div>"
      ],
      "text/plain": [
       "            Study         Run  vconst_corr    vconst_2    vconst_3  \\\n",
       "count  540.000000  540.000000   540.000000  540.000000  540.000000   \n",
       "mean     2.000000   90.500000     0.500026    0.500097    0.500027   \n",
       "std      0.817254   52.008901     0.288939    0.288922    0.289067   \n",
       "min      1.000000    1.000000     0.000414    0.001922    0.001181   \n",
       "25%      1.000000   45.750000     0.249650    0.251597    0.251540   \n",
       "50%      2.000000   90.500000     0.499998    0.499595    0.500104   \n",
       "75%      3.000000  135.250000     0.750042    0.750011    0.749180   \n",
       "max      3.000000  180.000000     0.999194    0.998815    0.998263   \n",
       "\n",
       "         vconst_4    vconst_5    vconst_7     ah_corr    ah_bolus  ...  \\\n",
       "count  540.000000  540.000000  540.000000  540.000000  540.000000  ...   \n",
       "mean     0.500119    0.500001    0.499913    0.500059    0.500076  ...   \n",
       "std      0.288993    0.288827    0.288852    0.289010    0.288909  ...   \n",
       "min      0.001972    0.000858    0.000476    0.004590    0.000296  ...   \n",
       "25%      0.250158    0.250630    0.251325    0.253048    0.250402  ...   \n",
       "50%      0.500456    0.500903    0.499174    0.499070    0.500074  ...   \n",
       "75%      0.750348    0.748988    0.748166    0.750109    0.749091  ...   \n",
       "max      0.997673    0.998944    0.997142    0.998930    0.998506  ...   \n",
       "\n",
       "       efficiency_factor  tidal_mix_max  vertical_decay_scale              \\\n",
       "count         540.000000     540.000000                        540.000000   \n",
       "mean            0.500111       0.499984                          0.499984   \n",
       "std             0.288966       0.289127                          0.289127   \n",
       "min             0.002015       0.000419                          0.000419   \n",
       "25%             0.250758       0.251676                          0.251676   \n",
       "50%             0.500393       0.500322                          0.500322   \n",
       "75%             0.749447       0.749346                          0.749346   \n",
       "max             0.999536       0.999942                          0.999942   \n",
       "\n",
       "       convect_corr  bckgrnd_vdc1  bckgrnd_vdc_ban  bckgrnd_vdc_eq  \\\n",
       "count    540.000000    540.000000       540.000000      540.000000   \n",
       "mean       0.499953      0.499944         0.499946        0.500044   \n",
       "std        0.288877      0.288949         0.288923        0.288813   \n",
       "min        0.001188      0.002509         0.000732        0.000891   \n",
       "25%        0.249988      0.249586         0.249974        0.250412   \n",
       "50%        0.500219      0.499080         0.499959        0.500384   \n",
       "75%        0.749539      0.750012         0.747978        0.749256   \n",
       "max        0.997518      0.999795         0.999155        0.997265   \n",
       "\n",
       "       bckgrnd_vdc_psim     Prandtl     outcome  \n",
       "count        540.000000  540.000000  540.000000  \n",
       "mean           0.500020    0.500021    0.914815  \n",
       "std            0.288936    0.289013    0.279416  \n",
       "min            0.000219    0.000263    0.000000  \n",
       "25%            0.252739    0.249723    1.000000  \n",
       "50%            0.498955    0.499431    1.000000  \n",
       "75%            0.748539    0.749792    1.000000  \n",
       "max            0.999306    0.999655    1.000000  \n",
       "\n",
       "[8 rows x 21 columns]"
      ]
     },
     "execution_count": 11,
     "metadata": {},
     "output_type": "execute_result"
    }
   ],
   "source": [
    "data.describe()"
   ]
  },
  {
   "cell_type": "code",
   "execution_count": 12,
   "metadata": {},
   "outputs": [
    {
     "data": {
      "text/plain": [
       "Study                               0\n",
       "Run                                 0\n",
       "vconst_corr                         0\n",
       "vconst_2                            0\n",
       "vconst_3                            0\n",
       "vconst_4                            0\n",
       "vconst_5                            0\n",
       "vconst_7                            0\n",
       "ah_corr                             0\n",
       "ah_bolus                            0\n",
       "slm_corr                            0\n",
       "efficiency_factor                   0\n",
       "tidal_mix_max                       0\n",
       "vertical_decay_scale                0\n",
       "convect_corr                        0\n",
       "bckgrnd_vdc1                        0\n",
       "bckgrnd_vdc_ban                     0\n",
       "bckgrnd_vdc_eq                      0\n",
       "bckgrnd_vdc_psim                    0\n",
       "Prandtl                             0\n",
       "outcome                             0\n",
       "dtype: int64"
      ]
     },
     "execution_count": 12,
     "metadata": {},
     "output_type": "execute_result"
    }
   ],
   "source": [
    "#Control if there is empty spaces or not\n",
    "data.isnull().sum()\n"
   ]
  },
  {
   "cell_type": "markdown",
   "metadata": {},
   "source": [
    "### Mix data set"
   ]
  },
  {
   "cell_type": "code",
   "execution_count": 13,
   "metadata": {},
   "outputs": [
    {
     "data": {
      "text/html": [
       "<div>\n",
       "<style scoped>\n",
       "    .dataframe tbody tr th:only-of-type {\n",
       "        vertical-align: middle;\n",
       "    }\n",
       "\n",
       "    .dataframe tbody tr th {\n",
       "        vertical-align: top;\n",
       "    }\n",
       "\n",
       "    .dataframe thead th {\n",
       "        text-align: right;\n",
       "    }\n",
       "</style>\n",
       "<table border=\"1\" class=\"dataframe\">\n",
       "  <thead>\n",
       "    <tr style=\"text-align: right;\">\n",
       "      <th></th>\n",
       "      <th>Study</th>\n",
       "      <th>Run</th>\n",
       "      <th>vconst_corr</th>\n",
       "      <th>vconst_2</th>\n",
       "      <th>vconst_3</th>\n",
       "      <th>vconst_4</th>\n",
       "      <th>vconst_5</th>\n",
       "      <th>vconst_7</th>\n",
       "      <th>ah_corr</th>\n",
       "      <th>ah_bolus</th>\n",
       "      <th>...</th>\n",
       "      <th>efficiency_factor</th>\n",
       "      <th>tidal_mix_max</th>\n",
       "      <th>vertical_decay_scale</th>\n",
       "      <th>convect_corr</th>\n",
       "      <th>bckgrnd_vdc1</th>\n",
       "      <th>bckgrnd_vdc_ban</th>\n",
       "      <th>bckgrnd_vdc_eq</th>\n",
       "      <th>bckgrnd_vdc_psim</th>\n",
       "      <th>Prandtl</th>\n",
       "      <th>outcome</th>\n",
       "    </tr>\n",
       "  </thead>\n",
       "  <tbody>\n",
       "    <tr>\n",
       "      <th>0</th>\n",
       "      <td>1</td>\n",
       "      <td>142</td>\n",
       "      <td>0.649366</td>\n",
       "      <td>0.167627</td>\n",
       "      <td>0.129363</td>\n",
       "      <td>0.408177</td>\n",
       "      <td>0.066166</td>\n",
       "      <td>0.659912</td>\n",
       "      <td>0.742137</td>\n",
       "      <td>0.406815</td>\n",
       "      <td>...</td>\n",
       "      <td>0.784111</td>\n",
       "      <td>0.788220</td>\n",
       "      <td>0.788220</td>\n",
       "      <td>0.041123</td>\n",
       "      <td>0.533720</td>\n",
       "      <td>0.459892</td>\n",
       "      <td>0.961959</td>\n",
       "      <td>0.869015</td>\n",
       "      <td>0.673660</td>\n",
       "      <td>1</td>\n",
       "    </tr>\n",
       "    <tr>\n",
       "      <th>1</th>\n",
       "      <td>3</td>\n",
       "      <td>30</td>\n",
       "      <td>0.893570</td>\n",
       "      <td>0.355212</td>\n",
       "      <td>0.066133</td>\n",
       "      <td>0.254635</td>\n",
       "      <td>0.239165</td>\n",
       "      <td>0.147224</td>\n",
       "      <td>0.255414</td>\n",
       "      <td>0.868011</td>\n",
       "      <td>...</td>\n",
       "      <td>0.612871</td>\n",
       "      <td>0.581760</td>\n",
       "      <td>0.581760</td>\n",
       "      <td>0.434276</td>\n",
       "      <td>0.162819</td>\n",
       "      <td>0.657756</td>\n",
       "      <td>0.852178</td>\n",
       "      <td>0.962780</td>\n",
       "      <td>0.560292</td>\n",
       "      <td>1</td>\n",
       "    </tr>\n",
       "    <tr>\n",
       "      <th>2</th>\n",
       "      <td>3</td>\n",
       "      <td>149</td>\n",
       "      <td>0.379486</td>\n",
       "      <td>0.113463</td>\n",
       "      <td>0.585678</td>\n",
       "      <td>0.257807</td>\n",
       "      <td>0.920813</td>\n",
       "      <td>0.669801</td>\n",
       "      <td>0.617307</td>\n",
       "      <td>0.274160</td>\n",
       "      <td>...</td>\n",
       "      <td>0.670572</td>\n",
       "      <td>0.300976</td>\n",
       "      <td>0.300976</td>\n",
       "      <td>0.063676</td>\n",
       "      <td>0.992424</td>\n",
       "      <td>0.746481</td>\n",
       "      <td>0.180050</td>\n",
       "      <td>0.909602</td>\n",
       "      <td>0.624390</td>\n",
       "      <td>1</td>\n",
       "    </tr>\n",
       "    <tr>\n",
       "      <th>3</th>\n",
       "      <td>3</td>\n",
       "      <td>155</td>\n",
       "      <td>0.582796</td>\n",
       "      <td>0.770086</td>\n",
       "      <td>0.333053</td>\n",
       "      <td>0.034803</td>\n",
       "      <td>0.307772</td>\n",
       "      <td>0.680384</td>\n",
       "      <td>0.174043</td>\n",
       "      <td>0.263835</td>\n",
       "      <td>...</td>\n",
       "      <td>0.330181</td>\n",
       "      <td>0.910594</td>\n",
       "      <td>0.910594</td>\n",
       "      <td>0.552673</td>\n",
       "      <td>0.406325</td>\n",
       "      <td>0.743248</td>\n",
       "      <td>0.243003</td>\n",
       "      <td>0.083429</td>\n",
       "      <td>0.399201</td>\n",
       "      <td>0</td>\n",
       "    </tr>\n",
       "    <tr>\n",
       "      <th>4</th>\n",
       "      <td>3</td>\n",
       "      <td>105</td>\n",
       "      <td>0.763550</td>\n",
       "      <td>0.566536</td>\n",
       "      <td>0.805273</td>\n",
       "      <td>0.502555</td>\n",
       "      <td>0.078713</td>\n",
       "      <td>0.589690</td>\n",
       "      <td>0.712578</td>\n",
       "      <td>0.379268</td>\n",
       "      <td>...</td>\n",
       "      <td>0.418419</td>\n",
       "      <td>0.000498</td>\n",
       "      <td>0.000498</td>\n",
       "      <td>0.226376</td>\n",
       "      <td>0.701267</td>\n",
       "      <td>0.720803</td>\n",
       "      <td>0.663945</td>\n",
       "      <td>0.061565</td>\n",
       "      <td>0.318909</td>\n",
       "      <td>1</td>\n",
       "    </tr>\n",
       "  </tbody>\n",
       "</table>\n",
       "<p>5 rows × 21 columns</p>\n",
       "</div>"
      ],
      "text/plain": [
       "   Study  Run  vconst_corr  vconst_2  vconst_3  vconst_4  vconst_5  vconst_7  \\\n",
       "0      1  142     0.649366  0.167627  0.129363  0.408177  0.066166  0.659912   \n",
       "1      3   30     0.893570  0.355212  0.066133  0.254635  0.239165  0.147224   \n",
       "2      3  149     0.379486  0.113463  0.585678  0.257807  0.920813  0.669801   \n",
       "3      3  155     0.582796  0.770086  0.333053  0.034803  0.307772  0.680384   \n",
       "4      3  105     0.763550  0.566536  0.805273  0.502555  0.078713  0.589690   \n",
       "\n",
       "    ah_corr  ah_bolus  ...  efficiency_factor  tidal_mix_max  \\\n",
       "0  0.742137  0.406815  ...           0.784111       0.788220   \n",
       "1  0.255414  0.868011  ...           0.612871       0.581760   \n",
       "2  0.617307  0.274160  ...           0.670572       0.300976   \n",
       "3  0.174043  0.263835  ...           0.330181       0.910594   \n",
       "4  0.712578  0.379268  ...           0.418419       0.000498   \n",
       "\n",
       "   vertical_decay_scale              convect_corr  bckgrnd_vdc1  \\\n",
       "0                          0.788220      0.041123      0.533720   \n",
       "1                          0.581760      0.434276      0.162819   \n",
       "2                          0.300976      0.063676      0.992424   \n",
       "3                          0.910594      0.552673      0.406325   \n",
       "4                          0.000498      0.226376      0.701267   \n",
       "\n",
       "   bckgrnd_vdc_ban  bckgrnd_vdc_eq  bckgrnd_vdc_psim   Prandtl  outcome  \n",
       "0         0.459892        0.961959          0.869015  0.673660        1  \n",
       "1         0.657756        0.852178          0.962780  0.560292        1  \n",
       "2         0.746481        0.180050          0.909602  0.624390        1  \n",
       "3         0.743248        0.243003          0.083429  0.399201        0  \n",
       "4         0.720803        0.663945          0.061565  0.318909        1  \n",
       "\n",
       "[5 rows x 21 columns]"
      ]
     },
     "execution_count": 13,
     "metadata": {},
     "output_type": "execute_result"
    }
   ],
   "source": [
    "data = data.sample(frac=1).reset_index(drop=True)\n",
    "data.head()"
   ]
  },
  {
   "cell_type": "code",
   "execution_count": 14,
   "metadata": {},
   "outputs": [
    {
     "data": {
      "text/plain": [
       "((540, 20), (540,))"
      ]
     },
     "execution_count": 14,
     "metadata": {},
     "output_type": "execute_result"
    }
   ],
   "source": [
    "#get outcome column from dataframe\n",
    "y = data['outcome']\n",
    "X = data.drop('outcome',axis=1)\n",
    "X.shape, y.shape"
   ]
  },
  {
   "cell_type": "code",
   "execution_count": 15,
   "metadata": {},
   "outputs": [
    {
     "data": {
      "text/plain": [
       "((378, 20), (162, 20))"
      ]
     },
     "execution_count": 15,
     "metadata": {},
     "output_type": "execute_result"
    }
   ],
   "source": [
    "# Split data set 70 train 30 test\n",
    "from sklearn.model_selection import train_test_split\n",
    "\n",
    "X_train, X_test, y_train, y_test = train_test_split(X, y, \n",
    "                                                    test_size = 0.3, random_state = 42)\n",
    "X_train.shape, X_test.shape"
   ]
  },
  {
   "cell_type": "markdown",
   "metadata": {},
   "source": [
    "## Classification Section"
   ]
  },
  {
   "cell_type": "code",
   "execution_count": 16,
   "metadata": {},
   "outputs": [],
   "source": [
    "#theses lists will store the results of classification algorithms\n",
    "model = []\n",
    "trainAcc = []\n",
    "testAcc = []\n",
    "\n",
    "#function in order to store model and accuracy of it\n",
    "\n",
    "def storeResults(MODEL, a,b):\n",
    "    model.append(MODEL)\n",
    "    trainAcc.append(round(a, 3))\n",
    "    testAcc.append(round(b, 3))"
   ]
  },
  {
   "cell_type": "markdown",
   "metadata": {},
   "source": [
    "### Decision Tree Classifier\n"
   ]
  },
  {
   "cell_type": "code",
   "execution_count": 17,
   "metadata": {},
   "outputs": [
    {
     "data": {
      "text/plain": [
       "DecisionTreeClassifier(ccp_alpha=0.0, class_weight=None, criterion='gini',\n",
       "                       max_depth=5, max_features=None, max_leaf_nodes=None,\n",
       "                       min_impurity_decrease=0.0, min_impurity_split=None,\n",
       "                       min_samples_leaf=1, min_samples_split=2,\n",
       "                       min_weight_fraction_leaf=0.0, presort='deprecated',\n",
       "                       random_state=None, splitter='best')"
      ]
     },
     "execution_count": 17,
     "metadata": {},
     "output_type": "execute_result"
    }
   ],
   "source": [
    "# Decision Tree model \n",
    "from sklearn.tree import DecisionTreeClassifier\n",
    "\n",
    "# instantiate the model with depth of 5\n",
    "tree = DecisionTreeClassifier(max_depth = 5)\n",
    "# fit the model \n",
    "tree.fit(X_train, y_train)"
   ]
  },
  {
   "cell_type": "code",
   "execution_count": 18,
   "metadata": {},
   "outputs": [],
   "source": [
    "##assign prediction results to the variables\n",
    "yTestTree = tree.predict(X_test)\n",
    "yTrainTree = tree.predict(X_train)"
   ]
  },
  {
   "cell_type": "code",
   "execution_count": 19,
   "metadata": {},
   "outputs": [
    {
     "name": "stdout",
     "output_type": "stream",
     "text": [
      "Decision Tree: Accuracy on training Data: 0.981\n",
      "Decision Tree: Accuracy on test Data: 0.938\n"
     ]
    }
   ],
   "source": [
    "#Accuracy informations \n",
    "acc_train_tree = accuracy_score(y_train,yTrainTree)\n",
    "acc_test_tree = accuracy_score(y_test,yTestTree)\n",
    "\n",
    "print(\"Decision Tree: Accuracy on training Data: {:.3f}\".format(acc_train_tree))\n",
    "print(\"Decision Tree: Accuracy on test Data: {:.3f}\".format(acc_test_tree))"
   ]
  },
  {
   "cell_type": "code",
   "execution_count": 20,
   "metadata": {},
   "outputs": [
    {
     "data": {
      "image/png": "[encoded data removed]",
      "text/plain": [
       "<Figure size 648x504 with 1 Axes>"
      ]
     },
     "metadata": {
      "needs_background": "light"
     },
     "output_type": "display_data"
    }
   ],
   "source": [
    "#Feature Importance\n",
    "plt.figure(figsize=(9,7))\n",
    "n_features = X_train.shape[1]\n",
    "plt.barh(range(n_features), tree.feature_importances_, align='center')\n",
    "plt.yticks(np.arange(n_features), X_train.columns)\n",
    "plt.xlabel(\"Feature importance\")\n",
    "plt.ylabel(\"Feature\")\n",
    "plt.show()"
   ]
  },
  {
   "cell_type": "code",
   "execution_count": 21,
   "metadata": {},
   "outputs": [],
   "source": [
    "#Store the accuracy result\n",
    "storeResults('Decision Tree', acc_train_tree, acc_test_tree)"
   ]
  },
  {
   "cell_type": "markdown",
   "metadata": {},
   "source": [
    "### Random Forest Classifier\n"
   ]
  },
  {
   "cell_type": "code",
   "execution_count": 22,
   "metadata": {},
   "outputs": [
    {
     "data": {
      "text/plain": [
       "RandomForestClassifier(bootstrap=True, ccp_alpha=0.0, class_weight=None,\n",
       "                       criterion='gini', max_depth=5, max_features='auto',\n",
       "                       max_leaf_nodes=None, max_samples=None,\n",
       "                       min_impurity_decrease=0.0, min_impurity_split=None,\n",
       "                       min_samples_leaf=1, min_samples_split=2,\n",
       "                       min_weight_fraction_leaf=0.0, n_estimators=100,\n",
       "                       n_jobs=None, oob_score=False, random_state=None,\n",
       "                       verbose=0, warm_start=False)"
      ]
     },
     "execution_count": 22,
     "metadata": {},
     "output_type": "execute_result"
    }
   ],
   "source": [
    "# Random Forest model\n",
    "from sklearn.ensemble import RandomForestClassifier\n",
    "\n",
    "# instantiate the model\n",
    "forest = RandomForestClassifier(max_depth=5)\n",
    "\n",
    "# fit the model \n",
    "forest.fit(X_train, y_train)"
   ]
  },
  {
   "cell_type": "code",
   "execution_count": 23,
   "metadata": {},
   "outputs": [],
   "source": [
    "##assign prediction results to the variables\n",
    "y_test_forest = forest.predict(X_test)\n",
    "y_train_forest = forest.predict(X_train)"
   ]
  },
  {
   "cell_type": "code",
   "execution_count": 24,
   "metadata": {},
   "outputs": [
    {
     "name": "stdout",
     "output_type": "stream",
     "text": [
      "Random forest: Accuracy on training Data: 0.955\n",
      "Random forest: Accuracy on test Data: 0.932\n"
     ]
    }
   ],
   "source": [
    "#Accuracy informations\n",
    "acc_train_forest = accuracy_score(y_train,y_train_forest)\n",
    "acc_test_forest = accuracy_score(y_test,y_test_forest)\n",
    "\n",
    "print(\"Random forest: Accuracy on training Data: {:.3f}\".format(acc_train_forest))\n",
    "print(\"Random forest: Accuracy on test Data: {:.3f}\".format(acc_test_forest))"
   ]
  },
  {
   "cell_type": "code",
   "execution_count": 25,
   "metadata": {},
   "outputs": [
    {
     "data": {
      "image/png": "[encoded data removed]",
      "text/plain": [
       "<Figure size 648x504 with 1 Axes>"
      ]
     },
     "metadata": {
      "needs_background": "light"
     },
     "output_type": "display_data"
    }
   ],
   "source": [
    "#Feature Importance\n",
    "plt.figure(figsize=(9,7))\n",
    "n_features = X_train.shape[1]\n",
    "plt.barh(range(n_features), forest.feature_importances_, align='center')\n",
    "plt.yticks(np.arange(n_features), X_train.columns)\n",
    "plt.xlabel(\"Feature importance\")\n",
    "plt.ylabel(\"Feature\")\n",
    "plt.show()"
   ]
  },
  {
   "cell_type": "code",
   "execution_count": 26,
   "metadata": {},
   "outputs": [],
   "source": [
    "#Sonucu tut\n",
    "storeResults('Random Forest', acc_train_forest, acc_test_forest)"
   ]
  },
  {
   "cell_type": "markdown",
   "metadata": {},
   "source": [
    "### Support Vector Machines\n",
    "\n",
    "\n"
   ]
  },
  {
   "cell_type": "code",
   "execution_count": 27,
   "metadata": {},
   "outputs": [
    {
     "data": {
      "text/plain": [
       "SVC(C=1.0, break_ties=False, cache_size=200, class_weight=None, coef0=0.0,\n",
       "    decision_function_shape='ovr', degree=3, gamma='scale', kernel='linear',\n",
       "    max_iter=-1, probability=False, random_state=12, shrinking=True, tol=0.001,\n",
       "    verbose=False)"
      ]
     },
     "execution_count": 27,
     "metadata": {},
     "output_type": "execute_result"
    }
   ],
   "source": [
    "#Support vector machine model\n",
    "from sklearn.svm import SVC\n",
    "\n",
    "# instantiate the model\n",
    "svm = SVC(kernel='linear', C=1.0, random_state=12)\n",
    "#fit the model\n",
    "svm.fit(X_train, y_train)"
   ]
  },
  {
   "cell_type": "code",
   "execution_count": 28,
   "metadata": {},
   "outputs": [],
   "source": [
    "####assign prediction results to the variables\n",
    "y_test_svm = svm.predict(X_test)\n",
    "y_train_svm = svm.predict(X_train)"
   ]
  },
  {
   "cell_type": "code",
   "execution_count": 29,
   "metadata": {},
   "outputs": [
    {
     "name": "stdout",
     "output_type": "stream",
     "text": [
      "SVM: Accuracy on training Data: 0.950\n",
      "SVM : Accuracy on test Data: 0.963\n"
     ]
    }
   ],
   "source": [
    "#Accuracy informations\n",
    "acc_train_svm = accuracy_score(y_train,y_train_svm)\n",
    "acc_test_svm = accuracy_score(y_test,y_test_svm)\n",
    "\n",
    "print(\"SVM: Accuracy on training Data: {:.3f}\".format(acc_train_svm))\n",
    "print(\"SVM : Accuracy on test Data: {:.3f}\".format(acc_test_svm))"
   ]
  },
  {
   "cell_type": "code",
   "execution_count": 30,
   "metadata": {},
   "outputs": [],
   "source": [
    "#Store results\n",
    "storeResults('SVM', acc_train_svm, acc_test_svm)"
   ]
  },
  {
   "cell_type": "markdown",
   "metadata": {},
   "source": [
    "### KNN"
   ]
  },
  {
   "cell_type": "code",
   "execution_count": 31,
   "metadata": {},
   "outputs": [
    {
     "data": {
      "text/plain": [
       "91.9753086419753"
      ]
     },
     "execution_count": 31,
     "metadata": {},
     "output_type": "execute_result"
    }
   ],
   "source": [
    "from sklearn.neighbors import KNeighborsClassifier\n",
    "neigh = KNeighborsClassifier(n_neighbors=3)\n",
    "neigh.fit(X_train,y_train)\n",
    "y_pred = neigh.predict(X_test)\n",
    "accuracy_score(y_test, y_pred)\n",
    "from sklearn import metrics\n",
    "metrics.accuracy_score(y_test, y_pred)*100"
   ]
  },
  {
   "cell_type": "code",
   "execution_count": 32,
   "metadata": {},
   "outputs": [],
   "source": [
    "##assign prediction results to the variables\n",
    "y_test_knn=neigh.predict(X_test)\n",
    "y_train_knn = neigh.predict(X_train)"
   ]
  },
  {
   "cell_type": "code",
   "execution_count": 33,
   "metadata": {},
   "outputs": [
    {
     "name": "stdout",
     "output_type": "stream",
     "text": [
      "Random forest: Accuracy on training Data: 0.913\n",
      "Random forest: Accuracy on test Data: 0.920\n"
     ]
    }
   ],
   "source": [
    "#Accuracy information\n",
    "trainAccKnn = accuracy_score(y_train,y_train_knn)\n",
    "testAccKnn = accuracy_score(y_test,y_test_knn)\n",
    "\n",
    "print(\"Random forest: Accuracy on training Data: {:.3f}\".format(trainAccKnn))\n",
    "print(\"Random forest: Accuracy on test Data: {:.3f}\".format(testAccKnn))"
   ]
  },
  {
   "cell_type": "code",
   "execution_count": 34,
   "metadata": {},
   "outputs": [],
   "source": [
    "#Store result\n",
    "storeResults('KNN', trainAccKnn, testAccKnn)"
   ]
  },
  {
   "cell_type": "code",
   "execution_count": 41,
   "metadata": {},
   "outputs": [
    {
     "data": {
      "text/html": [
       "<div>\n",
       "<style scoped>\n",
       "    .dataframe tbody tr th:only-of-type {\n",
       "        vertical-align: middle;\n",
       "    }\n",
       "\n",
       "    .dataframe tbody tr th {\n",
       "        vertical-align: top;\n",
       "    }\n",
       "\n",
       "    .dataframe thead th {\n",
       "        text-align: right;\n",
       "    }\n",
       "</style>\n",
       "<table border=\"1\" class=\"dataframe\">\n",
       "  <thead>\n",
       "    <tr style=\"text-align: right;\">\n",
       "      <th></th>\n",
       "      <th>model</th>\n",
       "      <th>Train Accuracy</th>\n",
       "      <th>Test Accuracy</th>\n",
       "    </tr>\n",
       "  </thead>\n",
       "  <tbody>\n",
       "    <tr>\n",
       "      <th>0</th>\n",
       "      <td>Decision Tree</td>\n",
       "      <td>0.981</td>\n",
       "      <td>0.938</td>\n",
       "    </tr>\n",
       "    <tr>\n",
       "      <th>1</th>\n",
       "      <td>Random Forest</td>\n",
       "      <td>0.955</td>\n",
       "      <td>0.932</td>\n",
       "    </tr>\n",
       "    <tr>\n",
       "      <th>2</th>\n",
       "      <td>SVM</td>\n",
       "      <td>0.950</td>\n",
       "      <td>0.963</td>\n",
       "    </tr>\n",
       "    <tr>\n",
       "      <th>3</th>\n",
       "      <td>KNN</td>\n",
       "      <td>0.913</td>\n",
       "      <td>0.920</td>\n",
       "    </tr>\n",
       "  </tbody>\n",
       "</table>\n",
       "</div>"
      ],
      "text/plain": [
       "           model  Train Accuracy  Test Accuracy\n",
       "0  Decision Tree           0.981          0.938\n",
       "1  Random Forest           0.955          0.932\n",
       "2            SVM           0.950          0.963\n",
       "3            KNN           0.913          0.920"
      ]
     },
     "execution_count": 41,
     "metadata": {},
     "output_type": "execute_result"
    }
   ],
   "source": [
    "#Create dataframe in order to store all algorithms and their performances.\n",
    "results = pd.DataFrame({ 'model': model,    \n",
    "    'Train Accuracy': trainAcc,\n",
    "    'Test Accuracy': testAcc})\n",
    "results"
   ]
  },
  {
   "cell_type": "code",
   "execution_count": 42,
   "metadata": {},
   "outputs": [
    {
     "data": {
      "text/html": [
       "<div>\n",
       "<style scoped>\n",
       "    .dataframe tbody tr th:only-of-type {\n",
       "        vertical-align: middle;\n",
       "    }\n",
       "\n",
       "    .dataframe tbody tr th {\n",
       "        vertical-align: top;\n",
       "    }\n",
       "\n",
       "    .dataframe thead th {\n",
       "        text-align: right;\n",
       "    }\n",
       "</style>\n",
       "<table border=\"1\" class=\"dataframe\">\n",
       "  <thead>\n",
       "    <tr style=\"text-align: right;\">\n",
       "      <th></th>\n",
       "      <th>model</th>\n",
       "      <th>Train Accuracy</th>\n",
       "      <th>Test Accuracy</th>\n",
       "    </tr>\n",
       "  </thead>\n",
       "  <tbody>\n",
       "    <tr>\n",
       "      <th>2</th>\n",
       "      <td>SVM</td>\n",
       "      <td>0.950</td>\n",
       "      <td>0.963</td>\n",
       "    </tr>\n",
       "    <tr>\n",
       "      <th>0</th>\n",
       "      <td>Decision Tree</td>\n",
       "      <td>0.981</td>\n",
       "      <td>0.938</td>\n",
       "    </tr>\n",
       "    <tr>\n",
       "      <th>1</th>\n",
       "      <td>Random Forest</td>\n",
       "      <td>0.955</td>\n",
       "      <td>0.932</td>\n",
       "    </tr>\n",
       "    <tr>\n",
       "      <th>3</th>\n",
       "      <td>KNN</td>\n",
       "      <td>0.913</td>\n",
       "      <td>0.920</td>\n",
       "    </tr>\n",
       "  </tbody>\n",
       "</table>\n",
       "</div>"
      ],
      "text/plain": [
       "           model  Train Accuracy  Test Accuracy\n",
       "2            SVM           0.950          0.963\n",
       "0  Decision Tree           0.981          0.938\n",
       "1  Random Forest           0.955          0.932\n",
       "3            KNN           0.913          0.920"
      ]
     },
     "execution_count": 42,
     "metadata": {},
     "output_type": "execute_result"
    }
   ],
   "source": [
    "#Sort in  descending order  \n",
    "results.sort_values(by=['Test Accuracy', 'Train Accuracy'], ascending=False)"
   ]
  }
 ],
 "metadata": {
  "kernelspec": {
   "display_name": "Python 3",
   "language": "python",
   "name": "python3"
  },
  "language_info": {
   "codemirror_mode": {
    "name": "ipython",
    "version": 3
   },
   "file_extension": ".py",
   "mimetype": "text/x-python",
   "name": "python",
   "nbconvert_exporter": "python",
   "pygments_lexer": "ipython3",
   "version": "3.7.6"
  }
 },
 "nbformat": 4,
 "nbformat_minor": 4
}
